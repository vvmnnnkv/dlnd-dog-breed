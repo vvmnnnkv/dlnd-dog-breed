{
 "cells": [
  {
   "cell_type": "markdown",
   "metadata": {},
   "source": [
    "# Convolutional Neural Networks\n",
    "\n",
    "## Project: Write an Algorithm for a Dog Identification App \n",
    "\n",
    "---\n",
    "\n",
    "In this notebook, some template code has already been provided for you, and you will need to implement additional functionality to successfully complete this project. You will not need to modify the included code beyond what is requested. Sections that begin with **'(IMPLEMENTATION)'** in the header indicate that the following block of code will require additional functionality which you must provide. Instructions will be provided for each section, and the specifics of the implementation are marked in the code block with a 'TODO' statement. Please be sure to read the instructions carefully! \n",
    "\n",
    "> **Note**: Once you have completed all of the code implementations, you need to finalize your work by exporting the Jupyter Notebook as an HTML document. Before exporting the notebook to html, all of the code cells need to have been run so that reviewers can see the final implementation and output. You can then export the notebook by using the menu above and navigating to **File -> Download as -> HTML (.html)**. Include the finished document along with this notebook as your submission.\n",
    "\n",
    "In addition to implementing code, there will be questions that you must answer which relate to the project and your implementation. Each section where you will answer a question is preceded by a **'Question X'** header. Carefully read each question and provide thorough answers in the following text boxes that begin with **'Answer:'**. Your project submission will be evaluated based on your answers to each of the questions and the implementation you provide.\n",
    "\n",
    ">**Note:** Code and Markdown cells can be executed using the **Shift + Enter** keyboard shortcut.  Markdown cells can be edited by double-clicking the cell to enter edit mode.\n",
    "\n",
    "The rubric contains _optional_ \"Stand Out Suggestions\" for enhancing the project beyond the minimum requirements. If you decide to pursue the \"Stand Out Suggestions\", you should include the code in this Jupyter notebook.\n",
    "\n",
    "\n",
    "\n",
    "---\n",
    "### Why We're Here \n",
    "\n",
    "In this notebook, you will make the first steps towards developing an algorithm that could be used as part of a mobile or web app.  At the end of this project, your code will accept any user-supplied image as input.  If a dog is detected in the image, it will provide an estimate of the dog's breed.  If a human is detected, it will provide an estimate of the dog breed that is most resembling.  The image below displays potential sample output of your finished project (... but we expect that each student's algorithm will behave differently!). \n",
    "\n",
    "![Sample Dog Output](images/sample_dog_output.png)\n",
    "\n",
    "In this real-world setting, you will need to piece together a series of models to perform different tasks; for instance, the algorithm that detects humans in an image will be different from the CNN that infers dog breed.  There are many points of possible failure, and no perfect algorithm exists.  Your imperfect solution will nonetheless create a fun user experience!\n",
    "\n",
    "### The Road Ahead\n",
    "\n",
    "We break the notebook into separate steps.  Feel free to use the links below to navigate the notebook.\n",
    "\n",
    "* [Step 0](#step0): Import Datasets\n",
    "* [Step 1](#step1): Detect Humans\n",
    "* [Step 2](#step2): Detect Dogs\n",
    "* [Step 3](#step3): Create a CNN to Classify Dog Breeds (from Scratch)\n",
    "* [Step 4](#step4): Create a CNN to Classify Dog Breeds (using Transfer Learning)\n",
    "* [Step 5](#step5): Write your Algorithm\n",
    "* [Step 6](#step6): Test Your Algorithm\n",
    "\n",
    "---\n",
    "<a id='step0'></a>\n",
    "## Step 0: Import Datasets\n",
    "\n",
    "Make sure that you've downloaded the required human and dog datasets:\n",
    "* Download the [dog dataset](https://s3-us-west-1.amazonaws.com/udacity-aind/dog-project/dogImages.zip).  Unzip the folder and place it in this project's home directory, at the location `/dogImages`. \n",
    "\n",
    "* Download the [human dataset](https://s3-us-west-1.amazonaws.com/udacity-aind/dog-project/lfw.zip).  Unzip the folder and place it in the home diretcory, at location `/lfw`.  \n",
    "\n",
    "*Note: If you are using a Windows machine, you are encouraged to use [7zip](http://www.7-zip.org/) to extract the folder.*\n",
    "\n",
    "In the code cell below, we save the file paths for both the human (LFW) dataset and dog dataset in the numpy arrays `human_files` and `dog_files`."
   ]
  },
  {
   "cell_type": "code",
   "execution_count": null,
   "metadata": {},
   "outputs": [],
   "source": [
    "import numpy as np\n",
    "from glob import glob\n",
    "\n",
    "# load filenames for human and dog images\n",
    "human_files = np.array(glob(\"data/lfw/*/*\"))\n",
    "dog_files = np.array(glob(\"data/dogImages/*/*/*\"))\n",
    "\n",
    "# print number of images in each dataset\n",
    "print('There are %d total human images.' % len(human_files))\n",
    "print('There are %d total dog images.' % len(dog_files))"
   ]
  },
  {
   "cell_type": "markdown",
   "metadata": {},
   "source": [
    "<a id='step1'></a>\n",
    "## Step 1: Detect Humans\n",
    "\n",
    "In this section, we use OpenCV's implementation of [Haar feature-based cascade classifiers](http://docs.opencv.org/trunk/d7/d8b/tutorial_py_face_detection.html) to detect human faces in images.  \n",
    "\n",
    "OpenCV provides many pre-trained face detectors, stored as XML files on [github](https://github.com/opencv/opencv/tree/master/data/haarcascades).  We have downloaded one of these detectors and stored it in the `haarcascades` directory.  In the next code cell, we demonstrate how to use this detector to find human faces in a sample image."
   ]
  },
  {
   "cell_type": "code",
   "execution_count": null,
   "metadata": {},
   "outputs": [],
   "source": [
    "import cv2                \n",
    "import matplotlib.pyplot as plt                        \n",
    "%matplotlib inline                               \n",
    "\n",
    "# extract pre-trained face detector\n",
    "face_cascade = cv2.CascadeClassifier('haarcascades/haarcascade_frontalface_alt.xml')\n",
    "\n",
    "# load color (BGR) image\n",
    "img = cv2.imread(human_files[0])\n",
    "# convert BGR image to grayscale\n",
    "gray = cv2.cvtColor(img, cv2.COLOR_BGR2GRAY)\n",
    "\n",
    "# find faces in image\n",
    "faces = face_cascade.detectMultiScale(gray)\n",
    "\n",
    "# print number of faces detected in the image\n",
    "print('Number of faces detected:', len(faces))\n",
    "\n",
    "# get bounding box for each detected face\n",
    "for (x,y,w,h) in faces:\n",
    "    # add bounding box to color image\n",
    "    cv2.rectangle(img,(x,y),(x+w,y+h),(255,0,0),2)\n",
    "    \n",
    "# convert BGR image to RGB for plotting\n",
    "cv_rgb = cv2.cvtColor(img, cv2.COLOR_BGR2RGB)\n",
    "\n",
    "# display the image, along with bounding box\n",
    "plt.imshow(cv_rgb)\n",
    "plt.show()"
   ]
  },
  {
   "cell_type": "markdown",
   "metadata": {},
   "source": [
    "Before using any of the face detectors, it is standard procedure to convert the images to grayscale.  The `detectMultiScale` function executes the classifier stored in `face_cascade` and takes the grayscale image as a parameter.  \n",
    "\n",
    "In the above code, `faces` is a numpy array of detected faces, where each row corresponds to a detected face.  Each detected face is a 1D array with four entries that specifies the bounding box of the detected face.  The first two entries in the array (extracted in the above code as `x` and `y`) specify the horizontal and vertical positions of the top left corner of the bounding box.  The last two entries in the array (extracted here as `w` and `h`) specify the width and height of the box.\n",
    "\n",
    "### Write a Human Face Detector\n",
    "\n",
    "We can use this procedure to write a function that returns `True` if a human face is detected in an image and `False` otherwise.  This function, aptly named `face_detector`, takes a string-valued file path to an image as input and appears in the code block below."
   ]
  },
  {
   "cell_type": "code",
   "execution_count": null,
   "metadata": {
    "collapsed": true
   },
   "outputs": [],
   "source": [
    "# returns \"True\" if face is detected in image stored at img_path\n",
    "def face_detector(img_path):\n",
    "    img = cv2.imread(img_path)\n",
    "    gray = cv2.cvtColor(img, cv2.COLOR_BGR2GRAY)\n",
    "    faces = face_cascade.detectMultiScale(gray)\n",
    "    return len(faces) > 0"
   ]
  },
  {
   "cell_type": "markdown",
   "metadata": {},
   "source": [
    "### (IMPLEMENTATION) Assess the Human Face Detector\n",
    "\n",
    "__Question 1:__ Use the code cell below to test the performance of the `face_detector` function.  \n",
    "- What percentage of the first 100 images in `human_files` have a detected human face?  \n",
    "- What percentage of the first 100 images in `dog_files` have a detected human face? \n",
    "\n",
    "Ideally, we would like 100% of human images with a detected face and 0% of dog images with a detected face.  You will see that our algorithm falls short of this goal, but still gives acceptable performance.  We extract the file paths for the first 100 images from each of the datasets and store them in the numpy arrays `human_files_short` and `dog_files_short`."
   ]
  },
  {
   "cell_type": "markdown",
   "metadata": {},
   "source": [
    "__Answer:__ \n",
    "(You can print out your results and/or write your percentages in this cell)"
   ]
  },
  {
   "cell_type": "code",
   "execution_count": null,
   "metadata": {},
   "outputs": [],
   "source": [
    "from tqdm import tqdm\n",
    "\n",
    "human_files_short = human_files[:100]\n",
    "dog_files_short = dog_files[:100]\n",
    "\n",
    "#-#-# Do NOT modify the code above this line. #-#-#\n",
    "\n",
    "## TODO: Test the performance of the face_detector algorithm \n",
    "## on the images in human_files_short and dog_files_short.\n",
    "num = 100\n",
    "human_faces_in_humans = 0\n",
    "human_faces_in_dogs = 0\n",
    "for i in tqdm(range(num)):\n",
    "    human_faces_in_humans += face_detector(human_files_short[i])\n",
    "    human_faces_in_dogs += face_detector(dog_files_short[i])\n",
    "\n",
    "print(\"Human faces in humans photos: %d%%\" % (100 * human_faces_in_humans // num))\n",
    "print(\"Human faces in dogs photos: %d%%\" % (100 * human_faces_in_dogs // num))"
   ]
  },
  {
   "cell_type": "markdown",
   "metadata": {},
   "source": [
    "We suggest the face detector from OpenCV as a potential way to detect human images in your algorithm, but you are free to explore other approaches, especially approaches that make use of deep learning :).  Please use the code cell below to design and test your own face detection algorithm.  If you decide to pursue this _optional_ task, report performance on `human_files_short` and `dog_files_short`."
   ]
  },
  {
   "cell_type": "code",
   "execution_count": null,
   "metadata": {
    "collapsed": true
   },
   "outputs": [],
   "source": [
    "### (Optional) \n",
    "### TODO: Test performance of anotherface detection algorithm.\n",
    "### Feel free to use as many code cells as needed."
   ]
  },
  {
   "cell_type": "markdown",
   "metadata": {},
   "source": [
    "---\n",
    "<a id='step2'></a>\n",
    "## Step 2: Detect Dogs\n",
    "\n",
    "In this section, we use a [pre-trained model](http://pytorch.org/docs/master/torchvision/models.html) to detect dogs in images.  \n",
    "\n",
    "### Obtain Pre-trained VGG-16 Model\n",
    "\n",
    "The code cell below downloads the VGG-16 model, along with weights that have been trained on [ImageNet](http://www.image-net.org/), a very large, very popular dataset used for image classification and other vision tasks.  ImageNet contains over 10 million URLs, each linking to an image containing an object from one of [1000 categories](https://gist.github.com/yrevar/942d3a0ac09ec9e5eb3a).  "
   ]
  },
  {
   "cell_type": "code",
   "execution_count": null,
   "metadata": {},
   "outputs": [],
   "source": [
    "import torch\n",
    "import torchvision.models as models\n",
    "\n",
    "# define VGG16 model\n",
    "VGG16 = models.vgg16(pretrained=True)\n",
    "\n",
    "# check if CUDA is available\n",
    "use_cuda = torch.cuda.is_available()\n",
    "\n",
    "print(\"Cuda is available: \", use_cuda)\n",
    "\n",
    "# move model to GPU if CUDA is available\n",
    "if use_cuda:\n",
    "    VGG16 = VGG16.cuda()\n",
    "    \n",
    "VGG16.eval()\n",
    "pass"
   ]
  },
  {
   "cell_type": "markdown",
   "metadata": {},
   "source": [
    "Given an image, this pre-trained VGG-16 model returns a prediction (derived from the 1000 possible categories in ImageNet) for the object that is contained in the image."
   ]
  },
  {
   "cell_type": "markdown",
   "metadata": {},
   "source": [
    "### (IMPLEMENTATION) Making Predictions with a Pre-trained Model\n",
    "\n",
    "In the next code cell, you will write a function that accepts a path to an image (such as `'dogImages/train/001.Affenpinscher/Affenpinscher_00001.jpg'`) as input and returns the index corresponding to the ImageNet class that is predicted by the pre-trained VGG-16 model.  The output should always be an integer between 0 and 999, inclusive.\n",
    "\n",
    "Before writing the function, make sure that you take the time to learn  how to appropriately pre-process tensors for pre-trained models in the [PyTorch documentation](http://pytorch.org/docs/stable/torchvision/models.html)."
   ]
  },
  {
   "cell_type": "code",
   "execution_count": null,
   "metadata": {
    "collapsed": true
   },
   "outputs": [],
   "source": [
    "from PIL import Image\n",
    "import torchvision.transforms as transforms\n",
    "\n",
    "def VGG16_predict(img_path):\n",
    "    '''\n",
    "    Use pre-trained VGG-16 model to obtain index corresponding to \n",
    "    predicted ImageNet class for image at specified path\n",
    "    \n",
    "    Args:\n",
    "        img_path: path to an image\n",
    "        \n",
    "    Returns:\n",
    "        Index corresponding to VGG-16 model's prediction\n",
    "    '''\n",
    "    \n",
    "    ## TODO: Complete the function.\n",
    "    ## Load and pre-process an image from the given img_path\n",
    "    ## Return the *index* of the predicted class for that image\n",
    "\n",
    "    # See generic_predict function\n",
    "    return generic_dog_predict(VGG16, img_path) # predicted class index\n",
    "\n",
    "# This function allows passing different models to classify image\n",
    "def generic_dog_predict(model, img_path, sz=224, mean=[0.485, 0.456, 0.406], std=[0.229, 0.224, 0.225]):\n",
    "    img = Image.open(img_path)\n",
    "    # Image transformations\n",
    "    transform = transforms.Compose([\n",
    "        transforms.Resize(sz),\n",
    "        transforms.CenterCrop(sz),\n",
    "        transforms.ToTensor(),\n",
    "        transforms.Normalize(mean=mean, std=std)\n",
    "    ])\n",
    "    img_norm = transform(img).unsqueeze_(0)\n",
    "    if use_cuda:\n",
    "        img_norm = img_norm.cuda()\n",
    "    with torch.no_grad():\n",
    "         outputs = model(img_norm).cpu().numpy()\n",
    "    top_class = np.argmax(outputs)\n",
    "    return top_class\n"
   ]
  },
  {
   "cell_type": "markdown",
   "metadata": {},
   "source": [
    "### (IMPLEMENTATION) Write a Dog Detector\n",
    "\n",
    "While looking at the [dictionary](https://gist.github.com/yrevar/942d3a0ac09ec9e5eb3a), you will notice that the categories corresponding to dogs appear in an uninterrupted sequence and correspond to dictionary keys 151-268, inclusive, to include all categories from `'Chihuahua'` to `'Mexican hairless'`.  Thus, in order to check to see if an image is predicted to contain a dog by the pre-trained VGG-16 model, we need only check if the pre-trained model predicts an index between 151 and 268 (inclusive).\n",
    "\n",
    "Use these ideas to complete the `dog_detector` function below, which returns `True` if a dog is detected in an image (and `False` if not)."
   ]
  },
  {
   "cell_type": "code",
   "execution_count": null,
   "metadata": {
    "collapsed": true
   },
   "outputs": [],
   "source": [
    "### returns \"True\" if a dog is detected in the image stored at img_path\n",
    "def dog_detector(img_path):\n",
    "    ## TODO: Complete the function.\n",
    "    # Pass VGG16 model into detector\n",
    "    return generic_dog_detector(VGG16_predict, img_path)\n",
    "\n",
    "# This function takes in predicting function and runs it on the image\n",
    "# It assumes the predicting function returns ImageNet class\n",
    "# And returns True if the predicted class is in dogs range\n",
    "def generic_dog_detector(predict, img_path):\n",
    "    pred = predict(img_path)\n",
    "    imn_dogs_start_idx = 151\n",
    "    imn_dogs_end_idx = 268\n",
    "    is_dog = imn_dogs_start_idx <= pred <= imn_dogs_end_idx\n",
    "    return is_dog\n",
    "    "
   ]
  },
  {
   "cell_type": "markdown",
   "metadata": {},
   "source": [
    "### (IMPLEMENTATION) Assess the Dog Detector\n",
    "\n",
    "__Question 2:__ Use the code cell below to test the performance of your `dog_detector` function.  \n",
    "- What percentage of the images in `human_files_short` have a detected dog?  \n",
    "- What percentage of the images in `dog_files_short` have a detected dog?"
   ]
  },
  {
   "cell_type": "markdown",
   "metadata": {},
   "source": [
    "__Answer:__ \n"
   ]
  },
  {
   "cell_type": "code",
   "execution_count": null,
   "metadata": {},
   "outputs": [],
   "source": [
    "### TODO: Test the performance of the dog_detector function\n",
    "### on the images in human_files_short and dog_files_short.\n",
    "\n",
    "num = 100\n",
    "dogs_in_humans = 0\n",
    "dogs_in_dogs = 0\n",
    "for i in tqdm(range(num)):\n",
    "    dogs_in_humans += dog_detector(human_files_short[i])\n",
    "    dogs_in_dogs += dog_detector(dog_files_short[i])\n",
    "\n",
    "print(\"Dogs detected in humans photos: %d%%\" % (100 * dogs_in_humans // num))\n",
    "print(\"Dogs detected in dogs photos: %d%%\" % (100 * dogs_in_dogs // num))"
   ]
  },
  {
   "cell_type": "markdown",
   "metadata": {},
   "source": [
    "We suggest VGG-16 as a potential network to detect dog images in your algorithm, but you are free to explore other pre-trained networks (such as [Inception-v3](http://pytorch.org/docs/master/torchvision/models.html#inception-v3), [ResNet-50](http://pytorch.org/docs/master/torchvision/models.html#id3), etc).  Please use the code cell below to test other pre-trained PyTorch models.  If you decide to pursue this _optional_ task, report performance on `human_files_short` and `dog_files_short`."
   ]
  },
  {
   "cell_type": "code",
   "execution_count": null,
   "metadata": {},
   "outputs": [],
   "source": [
    "### (Optional) \n",
    "### TODO: Report the performance of another pre-trained network.\n",
    "### Feel free to use as many code cells as needed.\n",
    "\n",
    "# Let's check resnet50 model\n",
    "resnet50 = models.resnet50(pretrained=True)\n",
    "# move model to GPU if CUDA is available\n",
    "if use_cuda:\n",
    "    resnet50 = resnet50.cuda()\n",
    "    \n",
    "resnet50.eval()\n",
    "\n",
    "def resnet50_predict(img_path):\n",
    "    return generic_dog_predict(resnet50, img_path)\n",
    "\n",
    "def dog_detector_resnet(img_path):\n",
    "    return generic_dog_detector(resnet50_predict, img_path)\n",
    "\n",
    "num = 100\n",
    "dogs_in_humans = 0\n",
    "dogs_in_dogs = 0\n",
    "for i in tqdm(range(num)):\n",
    "    dogs_in_humans += dog_detector_resnet(human_files_short[i])\n",
    "    dogs_in_dogs += dog_detector_resnet(dog_files_short[i])\n",
    "\n",
    "print(\"Dogs detected in humans photos (resnet50): %d%%\" % (100 * dogs_in_humans // num))\n",
    "print(\"Dogs detected in dogs photos (resnet50): %d%%\" % (100 * dogs_in_dogs // num))"
   ]
  },
  {
   "cell_type": "markdown",
   "metadata": {},
   "source": [
    "---\n",
    "<a id='step3'></a>\n",
    "## Step 3: Create a CNN to Classify Dog Breeds (from Scratch)\n",
    "\n",
    "Now that we have functions for detecting humans and dogs in images, we need a way to predict breed from images.  In this step, you will create a CNN that classifies dog breeds.  You must create your CNN _from scratch_ (so, you can't use transfer learning _yet_!), and you must attain a test accuracy of at least 10%.  In Step 4 of this notebook, you will have the opportunity to use transfer learning to create a CNN that attains greatly improved accuracy.\n",
    "\n",
    "We mention that the task of assigning breed to dogs from images is considered exceptionally challenging.  To see why, consider that *even a human* would have trouble distinguishing between a Brittany and a Welsh Springer Spaniel.  \n",
    "\n",
    "Brittany | Welsh Springer Spaniel\n",
    "- | - \n",
    "<img src=\"images/Brittany_02625.jpg\" width=\"100\"> | <img src=\"images/Welsh_springer_spaniel_08203.jpg\" width=\"200\">\n",
    "\n",
    "It is not difficult to find other dog breed pairs with minimal inter-class variation (for instance, Curly-Coated Retrievers and American Water Spaniels).  \n",
    "\n",
    "Curly-Coated Retriever | American Water Spaniel\n",
    "- | -\n",
    "<img src=\"images/Curly-coated_retriever_03896.jpg\" width=\"200\"> | <img src=\"images/American_water_spaniel_00648.jpg\" width=\"200\">\n",
    "\n",
    "\n",
    "Likewise, recall that labradors come in yellow, chocolate, and black.  Your vision-based algorithm will have to conquer this high intra-class variation to determine how to classify all of these different shades as the same breed.  \n",
    "\n",
    "Yellow Labrador | Chocolate Labrador | Black Labrador\n",
    "- | -\n",
    "<img src=\"images/Labrador_retriever_06457.jpg\" width=\"150\"> | <img src=\"images/Labrador_retriever_06455.jpg\" width=\"240\"> | <img src=\"images/Labrador_retriever_06449.jpg\" width=\"220\">\n",
    "\n",
    "We also mention that random chance presents an exceptionally low bar: setting aside the fact that the classes are slightly imabalanced, a random guess will provide a correct answer roughly 1 in 133 times, which corresponds to an accuracy of less than 1%.  \n",
    "\n",
    "Remember that the practice is far ahead of the theory in deep learning.  Experiment with many different architectures, and trust your intuition.  And, of course, have fun!\n",
    "\n",
    "### (IMPLEMENTATION) Specify Data Loaders for the Dog Dataset\n",
    "\n",
    "Use the code cell below to write three separate [data loaders](http://pytorch.org/docs/stable/data.html#torch.utils.data.DataLoader) for the training, validation, and test datasets of dog images (located at `dogImages/train`, `dogImages/valid`, and `dogImages/test`, respectively).  You may find [this documentation on custom datasets](http://pytorch.org/docs/stable/torchvision/datasets.html) to be a useful resource.  If you are interested in augmenting your training and/or validation data, check out the wide variety of [transforms](http://pytorch.org/docs/stable/torchvision/transforms.html?highlight=transform)!"
   ]
  },
  {
   "cell_type": "code",
   "execution_count": null,
   "metadata": {},
   "outputs": [],
   "source": [
    "import os\n",
    "from torchvision import datasets\n",
    "from PIL import ImageFile\n",
    "import pickle\n",
    "\n",
    "### TODO: Write data loaders for training, validation, and test sets\n",
    "## Specify appropriate transforms, and batch_sizes\n",
    "\n",
    "# I needed to add this custom dataset that just sets ImageFile.LOAD_TRUNCATED_IMAGES = True\n",
    "# It is required to run num_workers>1 for image loader, otherwise LOAD_TRUNCATED_IMAGES doesn't apply in workers\n",
    "# LOAD_TRUNCATED_IMAGES is needed to avoid error when images are loaded\n",
    "from  RobustImageFolder import RobustImageFolder\n",
    "\n",
    "# This function calculates mean and std for train provided path\n",
    "# These values will be used for images normalization\n",
    "def calc_mean_std(path, bs=64, size=224):\n",
    "    transform = transforms.Compose([\n",
    "        transforms.Resize(size),\n",
    "        transforms.CenterCrop(size),\n",
    "        transforms.ToTensor()\n",
    "    ])\n",
    "    dataset = RobustImageFolder(path, transform=transform)\n",
    "    loader = torch.utils.data.DataLoader(dataset, batch_size=bs, num_workers=4)\n",
    "    mean = torch.zeros(3)\n",
    "    std = torch.zeros(3)\n",
    "    count = 0\n",
    "    for data in loader:\n",
    "        # get image data\n",
    "        data = data[0]\n",
    "        # flatten\n",
    "        data = data.view(data.shape[0], data.shape[1], -1)\n",
    "        # calc mean & std per channel and sum over batch dimension\n",
    "        mean += data.mean(2).sum(0)\n",
    "        std += data.std(2).sum(0)\n",
    "        count += data.shape[0]\n",
    "\n",
    "    mean /= count\n",
    "    std /= count\n",
    "    return mean.numpy(), std.numpy()\n",
    "\n",
    "# This function creates loader and can be re-used to make different kind of loaders that use same transforms\n",
    "def make_loader(path, bs=64, size=224, rot_deg = 5, norm=None, train=False):\n",
    "    tmfs = []\n",
    "    if train:\n",
    "        # Train loader should do augmentation\n",
    "        tmfs = [\n",
    "            transforms.RandomRotation(rot_deg),\n",
    "            transforms.RandomResizedCrop(size),\n",
    "            transforms.RandomHorizontalFlip()\n",
    "        ]\n",
    "    else:\n",
    "        # Test/validation loaders won't do augmentation\n",
    "        tmfs = [\n",
    "            transforms.Resize(size),\n",
    "            transforms.CenterCrop(size)\n",
    "        ]\n",
    "    tmfs.append(transforms.ToTensor())\n",
    "    tmfs.append(transforms.Normalize(mean = norm['mean'], std = norm['std']))\n",
    "    transform = transforms.Compose(tmfs)\n",
    "    dataset = RobustImageFolder(path, transform=transform)\n",
    "    loader = torch.utils.data.DataLoader(dataset, batch_size=bs, shuffle=True, num_workers=4)\n",
    "    return loader\n",
    "\n",
    "# paths\n",
    "data_path = 'data/dogImages/'\n",
    "train_path = data_path + 'train'\n",
    "val_path = data_path + 'valid'\n",
    "test_path = data_path + 'test'\n",
    "\n",
    "# batch size\n",
    "bs = 64\n",
    "\n",
    "# image size\n",
    "size = 224\n",
    "\n",
    "# create simpliest train dataset to extract classes\n",
    "train_dataset = datasets.ImageFolder(train_path)\n",
    "dogs_classes = train_dataset.classes\n",
    "dogs_classes_count = len(dogs_classes)\n",
    "\n",
    "# we'll cache mean/std of train dataset to avoid calculating it each time\n",
    "mean_std_cache = data_path + 'mean_std.dump'\n",
    "if os.path.exists(mean_std_cache):\n",
    "    # load from cache\n",
    "    norm = pickle.load(open(mean_std_cache, 'rb'))\n",
    "else:\n",
    "    # calculate\n",
    "    mean, std = calc_mean_std(train_path, bs=bs, size=size)\n",
    "    norm = {'mean': mean, 'std': std}\n",
    "    # store in cache file\n",
    "    pickle.dump(norm, open(mean_std_cache, 'wb'))\n",
    "\n",
    "# debug\n",
    "print('normalization for train:', norm)\n",
    "\n",
    "# Create loaders for scratch model\n",
    "loaders_scratch = {\n",
    "    'train': make_loader(train_path, bs=bs, size=size, norm=norm, train=True),\n",
    "    'valid': make_loader(val_path, bs=bs, size=size, norm=norm),\n",
    "    'test': make_loader(test_path, bs=bs, size=size, norm=norm)\n",
    "}\n"
   ]
  },
  {
   "cell_type": "markdown",
   "metadata": {},
   "source": [
    "**Question 3:** Describe your chosen procedure for preprocessing the data. \n",
    "- How does your code resize the images (by cropping, stretching, etc)?  What size did you pick for the input tensor, and why?\n",
    "- Did you decide to augment the dataset?  If so, how (through translations, flips, rotations, etc)?  If not, why not?\n"
   ]
  },
  {
   "cell_type": "markdown",
   "metadata": {},
   "source": [
    "**Answer**:\n",
    "\n",
    "For training data, I resize images using torchvision transformer RandomResizedCrop, which makes randomly scaled patches of image resized to the specified size. For validation/test datasets, I resize smallest side to 224 and do CenterCrop tranformation to make square image.\n",
    "I decided to go with \"standard\" input size that is used for many other well-known models - 224x224. \n",
    "This way I can also compare my model to other existing models, e.g. the one used for transfer learning task :)\n",
    "\n",
    "Other transformations are common for both train and validation/test datasets - converting to torch tensor and normalizing using mean and std pre-calculated on the train dataset.\n",
    "\n",
    "As additional augmentation, I use RandomRotation and RandomHorizontalFlip transforms.\n",
    "These transformations are natural for photos and should improve the model robustness."
   ]
  },
  {
   "cell_type": "markdown",
   "metadata": {},
   "source": [
    "### (IMPLEMENTATION) Model Architecture\n",
    "\n",
    "Create a CNN to classify dog breed.  Use the template in the code cell below."
   ]
  },
  {
   "cell_type": "code",
   "execution_count": null,
   "metadata": {},
   "outputs": [],
   "source": [
    "import torch.nn as nn\n",
    "import torch.nn.functional as F\n",
    "\n",
    "# define the CNN architecture\n",
    "class Net(nn.Module):\n",
    "    ### TODO: choose an architecture, and complete the class\n",
    "    def __init__(self):\n",
    "        super(Net, self).__init__()\n",
    "        ## Define layers of a CNN\n",
    "        self.conv1 = nn.Conv2d(3, 32, 7, 2)\n",
    "        self.conv2 = nn.Conv2d(32, 64, 3, 1)\n",
    "        self.conv3 = nn.Conv2d(64, 128, 3, 1)\n",
    "        self.fc1 = nn.Linear(128 * 12 * 12, 2000)\n",
    "        self.fc2 = nn.Linear(2000, dogs_classes_count)\n",
    "        self.bn1 = nn.BatchNorm2d(32)\n",
    "        self.bn2 = nn.BatchNorm2d(64)\n",
    "        self.bn3 = nn.BatchNorm2d(128)\n",
    "\n",
    "    def forward(self, x):\n",
    "        ## Define forward behavior\n",
    "        x = self.bn1(self.conv1(x)) # 106\n",
    "        x = F.relu(F.max_pool2d(x, 2)) # 53\n",
    "        x = self.bn2(self.conv2(x)) # 51\n",
    "        x = F.relu(F.max_pool2d(x, 2)) # 25\n",
    "        x = self.bn3(self.conv3(x)) # 23\n",
    "        x = F.relu(F.max_pool2d(x, 2)) # 12\n",
    "        # flatten\n",
    "        x = x.view(x.size(0), -1)\n",
    "        x = F.dropout(x, p=0.2, training=self.training)\n",
    "        x = F.relu(self.fc1(x))\n",
    "        x = F.dropout(x, p=0.2, training=self.training)\n",
    "        x = self.fc2(x)\n",
    "        x = F.log_softmax(x, dim=1)\n",
    "        return x\n",
    "\n",
    "#-#-# You so NOT have to modify the code below this line. #-#-#\n",
    "\n",
    "# instantiate the CNN\n",
    "model_scratch = Net()\n",
    "\n",
    "# move tensors to GPU if CUDA is available\n",
    "if use_cuda:\n",
    "    model_scratch = model_scratch.cuda()\n"
   ]
  },
  {
   "cell_type": "markdown",
   "metadata": {},
   "source": [
    "__Question 4:__ Outline the steps you took to get to your final CNN architecture and your reasoning at each step.  "
   ]
  },
  {
   "cell_type": "markdown",
   "metadata": {},
   "source": [
    "__Answer:__ \n",
    "\n",
    "I decided to go with pretty standard convolutional net architecture, not very deep so it can be easily trained.\n",
    "It's somewhat close to one classic model for MNIST recognition, but have more params.\n",
    "There're 3 similar blocks having same operations:\n",
    " * Convolution (each block doubles number of channels: 32->64->128, this is common rule of thumb to increase channels with each layer)\n",
    " * Batch Normalization (improves training process by normalizing layer outputs)\n",
    " * Max Pooling (2x2, to reduce number of params)\n",
    " * ReLU (commonly used activation function)\n",
    "\n",
    "These 3 blocks consecutively shrink input image into tensor with dimensions 128x12x12.\n",
    "When trained, such blocks should transform the input image into representation of image features.\n",
    "After that, we flatten the resulting tensor and use 2 fully connected layers of sizes 2000 and 133 with dropouts in between (Dropout is good regularization and ensembling technique).\n",
    "These last layers should do classification task on image features created by convolution layers.\n",
    "\n",
    "The final output is passed through softmax (probability of classes) followed by log (to work well with pytorch loss function NLLLoss(), because NLLLoss() does not apply log, we apply it with log_softmax())."
   ]
  },
  {
   "cell_type": "markdown",
   "metadata": {},
   "source": [
    "### (IMPLEMENTATION) Specify Loss Function and Optimizer\n",
    "\n",
    "Use the next code cell to specify a [loss function](http://pytorch.org/docs/stable/nn.html#loss-functions) and [optimizer](http://pytorch.org/docs/stable/optim.html).  Save the chosen loss function as `criterion_scratch`, and the optimizer as `optimizer_scratch` below."
   ]
  },
  {
   "cell_type": "code",
   "execution_count": null,
   "metadata": {
    "collapsed": true
   },
   "outputs": [],
   "source": [
    "import torch.optim as optim\n",
    "\n",
    "lr = 0.001\n",
    "momentum = 0.9\n",
    "wd = 0.0001\n",
    "\n",
    "### TODO: select loss function\n",
    "criterion_scratch = torch.nn.NLLLoss()\n",
    "if use_cuda:\n",
    "    criterion_scratch.cuda()\n",
    "\n",
    "### TODO: select optimizer\n",
    "optimizer_scratch = optim.SGD(model_scratch.parameters(), lr=lr, momentum=momentum, weight_decay=wd)\n",
    "    "
   ]
  },
  {
   "cell_type": "markdown",
   "metadata": {},
   "source": [
    "### (IMPLEMENTATION) Train and Validate the Model\n",
    "\n",
    "Train and validate your model in the code cell below.  [Save the final model parameters](http://pytorch.org/docs/master/notes/serialization.html) at filepath `'model_scratch.pt'`."
   ]
  },
  {
   "cell_type": "code",
   "execution_count": null,
   "metadata": {
    "collapsed": true
   },
   "outputs": [],
   "source": [
    "\n",
    "def train(n_epochs, loaders, model, optimizer, criterion, use_cuda, save_path):\n",
    "    \"\"\"returns trained model\"\"\"\n",
    "    # initialize tracker for minimum validation loss\n",
    "    valid_loss_min = np.Inf \n",
    "    \n",
    "    for epoch in range(1, n_epochs+1):\n",
    "        # initialize variables to monitor training and validation loss\n",
    "        train_loss = 0.0\n",
    "        valid_loss = 0.0\n",
    "        \n",
    "        ###################\n",
    "        # train the model #\n",
    "        ###################\n",
    "        model.train()\n",
    "        for batch_idx, (data, target) in enumerate(loaders['train']):\n",
    "            # move to GPU\n",
    "            if use_cuda:\n",
    "                data, target = data.cuda(), target.cuda()\n",
    "            ## find the loss and update the model parameters accordingly\n",
    "            ## record the average training loss, using something like\n",
    "            optimizer.zero_grad()\n",
    "            output = model(data)\n",
    "            loss = criterion(output, target)\n",
    "            loss.backward()\n",
    "            optimizer.step()\n",
    "            train_loss = train_loss + ((1 / (batch_idx + 1)) * (loss.data - train_loss))\n",
    "            \n",
    "        ######################    \n",
    "        # validate the model #\n",
    "        ######################\n",
    "        model.eval()\n",
    "        for batch_idx, (data, target) in enumerate(loaders['valid']):\n",
    "            # move to GPU\n",
    "            if use_cuda:\n",
    "                data, target = data.cuda(), target.cuda()\n",
    "            ## update the average validation loss\n",
    "            output = model(data)\n",
    "            loss = criterion(output, target)\n",
    "            valid_loss = valid_loss + ((1 / (batch_idx + 1)) * (loss.data - valid_loss))\n",
    "            \n",
    "        # print training/validation statistics \n",
    "        print('Epoch: {} \\tTraining Loss: {:.6f} \\tValidation Loss: {:.6f}'.format(\n",
    "            epoch, \n",
    "            train_loss,\n",
    "            valid_loss\n",
    "            ))\n",
    "        \n",
    "        ## TODO: save the model if validation loss has decreased\n",
    "        if valid_loss_min > valid_loss:\n",
    "            torch.save(model.state_dict(), save_path)\n",
    "            valid_loss_min = valid_loss\n",
    "        \n",
    "    # return trained model\n",
    "    return model\n",
    "\n",
    "\n",
    "# train the model\n",
    "n_epochs = 100\n",
    "model_scratch = train(n_epochs, loaders_scratch, model_scratch, optimizer_scratch, \n",
    "                      criterion_scratch, use_cuda, data_path + 'model_scratch.pt')\n",
    "\n",
    "# load the model that got the best validation accuracy\n",
    "model_scratch.load_state_dict(torch.load(data_path + 'model_scratch.pt'))"
   ]
  },
  {
   "cell_type": "markdown",
   "metadata": {},
   "source": [
    "### (IMPLEMENTATION) Test the Model\n",
    "\n",
    "Try out your model on the test dataset of dog images.  Use the code cell below to calculate and print the test loss and accuracy.  Ensure that your test accuracy is greater than 10%."
   ]
  },
  {
   "cell_type": "code",
   "execution_count": null,
   "metadata": {},
   "outputs": [],
   "source": [
    "def test(loaders, model, criterion, use_cuda):\n",
    "\n",
    "    # monitor test loss and accuracy\n",
    "    test_loss = 0.\n",
    "    correct = 0.\n",
    "    total = 0.\n",
    "\n",
    "    model.eval()\n",
    "    for batch_idx, (data, target) in enumerate(loaders['test']):\n",
    "        # move to GPU\n",
    "        if use_cuda:\n",
    "            data, target = data.cuda(), target.cuda()\n",
    "        # forward pass: compute predicted outputs by passing inputs to the model\n",
    "        output = model(data)\n",
    "        # calculate the loss\n",
    "        loss = criterion(output, target)\n",
    "        # update average test loss \n",
    "        test_loss = test_loss + ((1 / (batch_idx + 1)) * (loss.data - test_loss))\n",
    "        # convert output probabilities to predicted class\n",
    "        pred = output.data.max(1, keepdim=True)[1]\n",
    "        # compare predictions to true label\n",
    "        correct += np.sum(np.squeeze(pred.eq(target.data.view_as(pred))).cpu().numpy())\n",
    "        total += data.size(0)\n",
    "            \n",
    "    print('Test Loss: {:.6f}\\n'.format(test_loss))\n",
    "\n",
    "    print('\\nTest Accuracy: %2d%% (%2d/%2d)' % (\n",
    "        100. * correct / total, correct, total))\n",
    "\n",
    "# call test function    \n",
    "test(loaders_scratch, model_scratch, criterion_scratch, use_cuda)"
   ]
  },
  {
   "cell_type": "markdown",
   "metadata": {},
   "source": [
    "---\n",
    "<a id='step4'></a>\n",
    "## Step 4: Create a CNN to Classify Dog Breeds (using Transfer Learning)\n",
    "\n",
    "You will now use transfer learning to create a CNN that can identify dog breed from images.  Your CNN must attain at least 60% accuracy on the test set.\n",
    "\n",
    "### (IMPLEMENTATION) Specify Data Loaders for the Dog Dataset\n",
    "\n",
    "Use the code cell below to write three separate [data loaders](http://pytorch.org/docs/master/data.html#torch.utils.data.DataLoader) for the training, validation, and test datasets of dog images (located at `dogImages/train`, `dogImages/valid`, and `dogImages/test`, respectively). \n",
    "\n",
    "If you like, **you are welcome to use the same data loaders from the previous step**, when you created a CNN from scratch."
   ]
  },
  {
   "cell_type": "code",
   "execution_count": null,
   "metadata": {
    "collapsed": true
   },
   "outputs": [],
   "source": [
    "## TODO: Specify data loaders\n",
    "# since this is imagenet-trained model, use imagenet normalization values\n",
    "image_net_norm = {'mean': [0.485, 0.456, 0.406], 'std': [0.229, 0.224, 0.225]}\n",
    "loaders_transfer = {\n",
    "    'train': make_loader(train_path, bs=bs, size=size, norm=image_net_norm, train=True),\n",
    "    'valid': make_loader(val_path, bs=bs, size=size, norm=image_net_norm),\n",
    "    'test': make_loader(test_path, bs=bs, size=size, norm=image_net_norm)\n",
    "}"
   ]
  },
  {
   "cell_type": "markdown",
   "metadata": {},
   "source": [
    "### (IMPLEMENTATION) Model Architecture\n",
    "\n",
    "Use transfer learning to create a CNN to classify dog breed.  Use the code cell below, and save your initialized model as the variable `model_transfer`."
   ]
  },
  {
   "cell_type": "code",
   "execution_count": null,
   "metadata": {
    "collapsed": true
   },
   "outputs": [],
   "source": [
    "import torchvision.models as models\n",
    "import torch.nn as nn\n",
    "\n",
    "## TODO: Specify model architecture \n",
    "model_transfer = models.resnet50(pretrained=True)\n",
    "\n",
    "# freeze all params\n",
    "for param in model_transfer.parameters():\n",
    "    param.requires_grad = False\n",
    "\n",
    "# replace the last layer\n",
    "model_transfer.fc = nn.Linear(2048, dogs_classes_count)\n",
    " \n",
    "if use_cuda:\n",
    "    model_transfer = model_transfer.cuda()\n"
   ]
  },
  {
   "cell_type": "markdown",
   "metadata": {},
   "source": [
    "__Question 5:__ Outline the steps you took to get to your final CNN architecture and your reasoning at each step.  Describe why you think the architecture is suitable for the current problem."
   ]
  },
  {
   "cell_type": "markdown",
   "metadata": {},
   "source": [
    "__Answer:__ \n",
    "\n",
    "I took resnet50 as \"backbone\" model because it's relatively small and fast but has good accuracy.\n",
    "All the layers were frozen, except the last fully connected layer was replaced with untrained fully connected layer to classify dog breeds from 2048 image features produced by backbone model.\n",
    "\n",
    "Since this resnet50 model is already trained on ImageNet and \"knows\" some dog breeds, re-tuning it to recognize dog breeds only (plus some additional dog breeds granularity) should work nicely.\n",
    "\n",
    "It might also make sense to unfreeze some of the last layers to fine-tune them for dog breeds task as well, but I don't do that to make training process faster."
   ]
  },
  {
   "cell_type": "markdown",
   "metadata": {},
   "source": [
    "### (IMPLEMENTATION) Specify Loss Function and Optimizer\n",
    "\n",
    "Use the next code cell to specify a [loss function](http://pytorch.org/docs/master/nn.html#loss-functions) and [optimizer](http://pytorch.org/docs/master/optim.html).  Save the chosen loss function as `criterion_transfer`, and the optimizer as `optimizer_transfer` below."
   ]
  },
  {
   "cell_type": "code",
   "execution_count": null,
   "metadata": {
    "collapsed": true
   },
   "outputs": [],
   "source": [
    "criterion_transfer = nn.CrossEntropyLoss()\n",
    "if use_cuda:\n",
    "    criterion_transfer = criterion_transfer.cuda()\n",
    "\n",
    "optimizer_transfer = optim.Adam(model_transfer.parameters(), weight_decay=0.001)"
   ]
  },
  {
   "cell_type": "markdown",
   "metadata": {},
   "source": [
    "### (IMPLEMENTATION) Train and Validate the Model\n",
    "\n",
    "Train and validate your model in the code cell below.  [Save the final model parameters](http://pytorch.org/docs/master/notes/serialization.html) at filepath `'model_transfer.pt'`."
   ]
  },
  {
   "cell_type": "code",
   "execution_count": null,
   "metadata": {},
   "outputs": [],
   "source": [
    "# train the model\n",
    "n_epochs = 3\n",
    "model_transfer = train(n_epochs, loaders_transfer, model_transfer, optimizer_transfer, criterion_transfer, use_cuda, data_path + 'model_transfer.pt')\n",
    "\n",
    "# load the model that got the best validation accuracy (uncomment the line below)\n",
    "model_transfer.load_state_dict(torch.load(data_path + 'model_transfer.pt'))"
   ]
  },
  {
   "cell_type": "markdown",
   "metadata": {},
   "source": [
    "### (IMPLEMENTATION) Test the Model\n",
    "\n",
    "Try out your model on the test dataset of dog images. Use the code cell below to calculate and print the test loss and accuracy.  Ensure that your test accuracy is greater than 60%."
   ]
  },
  {
   "cell_type": "code",
   "execution_count": null,
   "metadata": {},
   "outputs": [],
   "source": [
    "test(loaders_transfer, model_transfer, criterion_transfer, use_cuda)"
   ]
  },
  {
   "cell_type": "markdown",
   "metadata": {},
   "source": [
    "### (IMPLEMENTATION) Predict Dog Breed with the Model\n",
    "\n",
    "Write a function that takes an image path as input and returns the dog breed (`Affenpinscher`, `Afghan hound`, etc) that is predicted by your model.  "
   ]
  },
  {
   "cell_type": "code",
   "execution_count": null,
   "metadata": {
    "collapsed": true
   },
   "outputs": [],
   "source": [
    "### TODO: Write a function that takes a path to an image as input\n",
    "### and returns the dog breed that is predicted by the model.\n",
    "\n",
    "# list of class names by index, i.e. a name can be accessed like class_names[0]\n",
    "class_names = [item[4:].replace(\"_\", \" \") for item in dogs_classes]\n",
    "\n",
    "# Img can be path or PIL Image\n",
    "def predict_breed_transfer(img):\n",
    "    # load the image and return the predicted breed\n",
    "    if not Image.isImageType(img):\n",
    "        img = Image.open(img)\n",
    "    tfms = transforms.Compose([\n",
    "        transforms.Resize(size),\n",
    "        transforms.CenterCrop(size),\n",
    "        transforms.ToTensor(),\n",
    "        transforms.Normalize(mean=image_net_norm['mean'], std=image_net_norm['std'])\n",
    "    ])\n",
    "    inp = tfms(img).unsqueeze_(0)\n",
    "    if use_cuda:\n",
    "        inp = inp.cuda()\n",
    "    with torch.no_grad():\n",
    "        output = model_transfer(inp)\n",
    "    res = np.argmax(output.cpu().numpy())\n",
    "    return class_names[res]\n"
   ]
  },
  {
   "cell_type": "markdown",
   "metadata": {},
   "source": [
    "---\n",
    "<a id='step5'></a>\n",
    "## Step 5: Write your Algorithm\n",
    "\n",
    "Write an algorithm that accepts a file path to an image and first determines whether the image contains a human, dog, or neither.  Then,\n",
    "- if a __dog__ is detected in the image, return the predicted breed.\n",
    "- if a __human__ is detected in the image, return the resembling dog breed.\n",
    "- if __neither__ is detected in the image, provide output that indicates an error.\n",
    "\n",
    "You are welcome to write your own functions for detecting humans and dogs in images, but feel free to use the `face_detector` and `human_detector` functions developed above.  You are __required__ to use your CNN from Step 4 to predict dog breed.  \n",
    "\n",
    "Some sample output for our algorithm is provided below, but feel free to design your own user experience!\n",
    "\n",
    "![Sample Human Output](images/sample_human_output.png)\n",
    "\n",
    "\n",
    "### (IMPLEMENTATION) Write your Algorithm"
   ]
  },
  {
   "cell_type": "code",
   "execution_count": null,
   "metadata": {
    "collapsed": true
   },
   "outputs": [],
   "source": [
    "### TODO: Write your algorithm.\n",
    "### Feel free to use as many code cells as needed.\n",
    "\n",
    "from IPython.core.display import display, HTML\n",
    "\n",
    "def run_app(img_path):\n",
    "    ## handle cases for a human face, dog, and neither\n",
    "    is_dog = dog_detector_resnet(img_path)\n",
    "    is_person = face_detector(img_path) if not is_dog else False\n",
    "\n",
    "    # Predict breed\n",
    "    dog_class = predict_breed_transfer(img_path)\n",
    "    # Create link to google images to easily check for other images of breed\n",
    "    dog_class_link = HTML(\"<a href='https://www.google.com/search?tbm=isch&q=%(dog)s'>%(dog)s</a>\" % {'dog': dog_class })\n",
    "    if is_person:\n",
    "        print(\"Hi Human!\")\n",
    "        plt.imshow(Image.open(img_path))\n",
    "        plt.show()\n",
    "        print(\"You look like a ... \")\n",
    "        display(dog_class_link)\n",
    "    elif is_dog:\n",
    "        plt.imshow(Image.open(img_path))\n",
    "        plt.show()\n",
    "        print(\"This dog's breed is ...\")\n",
    "        display(dog_class_link)\n",
    "    else:\n",
    "        # neither\n",
    "        print(\"Could not find anything interesting on your image :(\")\n",
    "        plt.imshow(Image.open(img_path))\n",
    "        plt.show()\n",
    "        print(\"But if you ask, it looks like ...\")\n",
    "        display(dog_class_link)\n",
    "      \n"
   ]
  },
  {
   "cell_type": "markdown",
   "metadata": {},
   "source": [
    "---\n",
    "<a id='step6'></a>\n",
    "## Step 6: Test Your Algorithm\n",
    "\n",
    "In this section, you will take your new algorithm for a spin!  What kind of dog does the algorithm think that _you_ look like?  If you have a dog, does it predict your dog's breed accurately?  If you have a cat, does it mistakenly think that your cat is a dog?\n",
    "\n",
    "### (IMPLEMENTATION) Test Your Algorithm on Sample Images!\n",
    "\n",
    "Test your algorithm at least six images on your computer.  Feel free to use any images you like.  Use at least two human and two dog images.  \n",
    "\n",
    "__Question 6:__ Is the output better than you expected :) ?  Or worse :( ?  Provide at least three possible points of improvement for your algorithm."
   ]
  },
  {
   "cell_type": "markdown",
   "metadata": {},
   "source": [
    "__Answer:__ \n",
    "\n",
    "1. Performance for dog breeds seems good even with hard cases where part of the dog is occluded. Also the resnet50 model for dogs detection didn't buy into fake dogs images but fine-tuned model provided rather close-looking predictions for them :)\n",
    "\n",
    "2. Guessing dogs breeds for human images is a bit disappointing :) It seems that the model does not really catch \"high-level\" similarity but rather texture/color.\n",
    "\n",
    "3. Possible improvements:\n",
    " * The main drawback is that the model expects only one dog per image. If there're multiple dogs of different breeds the prediction can be wrong for all of them. To improve on that, my stretch goal for this project is to use segmentation to first extract each dog (or person) from the image and then apply dog breed recognition model!\n",
    " * The app itself can only choose between person or dog, and can't do both, for example. When image has both face and dog it would be nice to provide prediction for both. This item can be also covered by segmentation step in the pipeline.\n",
    " * Not all dog breeds are present in the training dataset. It could be expanded by downloading images from the internet to make predictions more accurate. \n",
    " * To provide more initeresting results for \"human as dog\" recognition, maybe it makes sense to create separate model for \"human as dog\" prediction that will be trained or tuned on additional datasets like these: https://petapixel.com/2018/09/20/photos-of-humans-and-dogs-who-look-strangely-alike/, https://www.wideopenpets.com/15-people-look-like-dogs/\n"
   ]
  },
  {
   "cell_type": "code",
   "execution_count": null,
   "metadata": {},
   "outputs": [],
   "source": [
    "## TODO: Execute your algorithm from Step 6 on\n",
    "## at least 6 images on your computer.\n",
    "## Feel free to use as many code cells as needed.\n",
    "\n",
    "from glob import glob\n",
    "\n",
    "for file in glob('test/**/*.jpg'):\n",
    "    run_app(file)\n",
    "    print('=============================')\n",
    "\n"
   ]
  },
  {
   "cell_type": "markdown",
   "metadata": {},
   "source": [
    "## Step X: Going further with object detection :)\n",
    "\n",
    "One of the improvements I wanted to make is to support many dogs/humans on the image and predict breed for each of them.\n",
    "Detecting object bounding box is more difficult than simply classifying an image.\n",
    "There're multiple popular architectures for that like YOLO, SSD, RetinaNet.\n",
    "\n",
    "Implementing and training these models end-to-end from scratch to show dog breeds is rather difficult and time-consuming, \n",
    "so I decided to make it 2 steps:\n",
    " 1. Use some existing (pre-trained) implementation to detect humand and dogs with bounding boxes\n",
    " 2. Crop the image according to detected boxes and pass to dog breed classifier implemented eariler\n",
    "\n",
    "For step #1 following YOLOv3 implementation was found and used: https://github.com/ultralytics/yolov3\n",
    "This is the latest version of YOLO architecture implemented with Pytorch and it also provides pre-trained weights trained on COCO dataset with 80 classes, with classes 0 and 16 being 'person' and 'dog', which we need for our app.\n",
    "\n",
    "For step #2 additional code was done below, including `run_app_v2` function that is similar to `run_app`."
   ]
  },
  {
   "cell_type": "markdown",
   "metadata": {},
   "source": [
    "**NOTE:** I'm not including 3rd-party code in my repo.\n",
    "Following commands should be used to checkout that code and download pre-trained weights."
   ]
  },
  {
   "cell_type": "code",
   "execution_count": null,
   "metadata": {
    "collapsed": true
   },
   "outputs": [],
   "source": [
    "!git clone https://github.com/ultralytics/yolov3 yolov3 && cd yolov3 && bash weights/download_yolov3_weights.sh && cd ..\n"
   ]
  },
  {
   "cell_type": "code",
   "execution_count": null,
   "metadata": {},
   "outputs": [],
   "source": [
    "import sys\n",
    "\n",
    "# Import 3rd-party code\n",
    "# Path must match to one used in command above\n",
    "yolov3_rel_path = './yolov3/'\n",
    "yolov3_path = os.path.join(sys.path[0], yolov3_rel_path)\n",
    "sys.path.append(yolov3_path)\n",
    "from models import *\n",
    "from utils.datasets import *\n",
    "from utils.utils import *\n",
    "from utils import torch_utils\n",
    "\n",
    "# Wrapper around 3rd-party yolov3 implementation\n",
    "class YOLOv3Lib():\n",
    "\n",
    "    def __init__(self, yolov3_path, img_size=416, conf_thres=0.3, nms_thres=0.45):\n",
    "        # paths\n",
    "        self.net_config_path = os.path.join(yolov3_path, 'cfg/yolov3.cfg')\n",
    "        self.data_config = parse_data_config(os.path.join(yolov3_path, 'cfg/coco.data'))\n",
    "        self.classes = load_classes(os.path.join(yolov3_path, data_config['names']))\n",
    "        self.weights_path = os.path.join(yolov3_path, 'weights/yolov3.weights')\n",
    "\n",
    "        self.img_size = img_size\n",
    "        self.conf_thres = conf_thres\n",
    "        self.nms_thres = nms_thres\n",
    "\n",
    "        # Load model\n",
    "        model = Darknet(self.net_config_path, self.img_size)\n",
    "        load_darknet_weights(model, self.weights_path)\n",
    "        model.eval()\n",
    "\n",
    "    # Scale, pad and normalize the image\n",
    "    # Returns padding info that can be used to \"unpad\" and \"unscale\" the image\n",
    "    def prepare_img(self, img_path):\n",
    "        img = Image.open(open(img_path, \"rb\"))\n",
    "        # scale the image so that the smallest size will be img_size\n",
    "        scale = min(self.img_size/img.size[0], self.img_size/img.size[1])\n",
    "        width = round(img.size[0] * scale)\n",
    "        height = round(img.size[1] * scale)\n",
    "        # center-pad from left/right\n",
    "        pad_left = (self.img_size - width) // 2\n",
    "        pad_right = self.img_size - width - pad_left\n",
    "        # no padding from top, just bottom\n",
    "        pad_top = 0\n",
    "        pad_bottom = img_size - height\n",
    "        pad = (pad_left, pad_top, pad_right, pad_bottom)\n",
    "        img_transforms = transforms.Compose([\n",
    "            transforms.Resize((height, width)),\n",
    "            transforms.Pad(pad, (128,128,128)),\n",
    "            transforms.ToTensor(),\n",
    "        ])\n",
    "        input_img = img_transforms(img).unsqueeze(0)\n",
    "        return input_img, img, (scale, pad_left)\n",
    "\n",
    "    # Detect objects and crop pieces of original image that correspond to detected classes\n",
    "    def extract_classes(self, img_path, return_classes = [0, 16]):\n",
    "        input_img, img, (scale, pad_left) = self.prepare_img(img_path)\n",
    "        with torch.no_grad():\n",
    "            pred = model(input_img)\n",
    "\n",
    "        res = []\n",
    "        # Keep only items that exceed confidence thresholds and non-max suppression threshold\n",
    "        pred = pred[pred[:, :, 4] > self.conf_thres]\n",
    "        detections = non_max_suppression(pred.unsqueeze(0), self.conf_thres, self.nms_thres)\n",
    "\n",
    "        for x1, y1, x2, y2, conf, cls_conf, cls_pred in detections[0]:\n",
    "            # return only classes we need\n",
    "            if not int(cls_pred) in return_classes: continue\n",
    "            # remove left padding\n",
    "            x1, x2 = x1 - pad_left, x2 - pad_left\n",
    "            # restore to orig image size\n",
    "            x1, x2, y1, y2 = x1/scale, x2/scale, y1/scale, y2/scale\n",
    "            # check for min/max boundaries\n",
    "            x1, y1, x2, y2 = max(x1, 0), max(y1, 0), max(x2, 0), max(y2, 0)\n",
    "            x1, y1, x2, y2 = min(x1, img.size[0]), min(y1, img.size[1]), min(x2, img.size[0]), min(y2, img.size[1])\n",
    "            # crop the piece of image\n",
    "            piece = img.crop((int(x1),int(y1),int(x2),int(y2)))\n",
    "            res.append((piece, self.classes[int(cls_pred)]))\n",
    "                                            \n",
    "        return res\n",
    "    \n",
    "yolo = YOLOv3Lib(yolov3_path)\n"
   ]
  },
  {
   "cell_type": "code",
   "execution_count": null,
   "metadata": {
    "collapsed": true
   },
   "outputs": [],
   "source": [
    "from IPython.core.display import display, HTML\n",
    "\n",
    "# V2 of app\n",
    "def run_app_v2(img_path):\n",
    "    # detect persons and dogs (0, 16) with YOLO\n",
    "    images = yolo.extract_classes(img_path, [0, 16])\n",
    "\n",
    "    if len(images) == 0:\n",
    "        print(\"Could not find anything interesting on your image :(\")\n",
    "        plt.imshow(Image.open(img_path))\n",
    "        plt.show()\n",
    "        return\n",
    "    else:\n",
    "        print(\"Found %d objects on your image!\" % len(images))\n",
    "        plt.imshow(Image.open(img_path))\n",
    "        plt.show()\n",
    "    \n",
    "    for img, cls in images:\n",
    "        # Predict breed\n",
    "        dog_class = predict_breed_transfer(img)\n",
    "        dog_class_link = HTML(\"<a href='https://www.google.com/search?tbm=isch&q=%(dog)s'>%(dog)s</a>\" % {'dog': dog_class })\n",
    "        if cls == \"person\":\n",
    "            print(\"I think I found a person:\")\n",
    "            plt.imshow(img)\n",
    "            plt.show()\n",
    "            print(\"And this person looks like a ... \")\n",
    "            display(dog_class_link)\n",
    "        elif cls == \"dog\":\n",
    "            print(\"This should be a dog:\")\n",
    "            plt.imshow(img)\n",
    "            plt.show()\n",
    "            print(\"And the dog's breed is ...\")\n",
    "            display(dog_class_link)\n",
    "        else:\n",
    "            # unknown class\n",
    "            print(\"Not sure what is that:\")\n",
    "            plt.imshow(img)\n",
    "            plt.show()\n",
    "            print(\"But if you ask, it looks like ...\")\n",
    "            display(dog_class_link)\n",
    "\n"
   ]
  },
  {
   "cell_type": "code",
   "execution_count": null,
   "metadata": {},
   "outputs": [],
   "source": [
    "from glob import glob\n",
    "for file in glob('test/**/*.jpg'):\n",
    "    run_app_v2(file)\n",
    "    print('=============================')"
   ]
  },
  {
   "cell_type": "code",
   "execution_count": null,
   "metadata": {
    "collapsed": true
   },
   "outputs": [],
   "source": []
  }
 ],
 "metadata": {
  "anaconda-cloud": {},
  "kernelspec": {
   "display_name": "Python 3",
   "language": "python",
   "name": "python3"
  },
  "language_info": {
   "codemirror_mode": {
    "name": "ipython",
    "version": 3
   },
   "file_extension": ".py",
   "mimetype": "text/x-python",
   "name": "python",
   "nbconvert_exporter": "python",
   "pygments_lexer": "ipython3",
   "version": "3.6.4"
  }
 },
 "nbformat": 4,
 "nbformat_minor": 1
}
